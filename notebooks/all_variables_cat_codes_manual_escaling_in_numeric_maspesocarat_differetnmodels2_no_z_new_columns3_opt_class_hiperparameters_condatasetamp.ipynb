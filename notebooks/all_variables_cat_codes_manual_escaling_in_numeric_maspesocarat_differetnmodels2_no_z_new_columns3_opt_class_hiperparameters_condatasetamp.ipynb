{
 "cells": [
  {
   "cell_type": "code",
   "execution_count": 1,
   "id": "e0ee059d",
   "metadata": {},
   "outputs": [],
   "source": [
    "import pandas as pd\n",
    "import numpy as np\n",
    "from sqlalchemy import create_engine\n",
    "from sklearn.model_selection import train_test_split\n",
    "from sklearn.model_selection import RandomizedSearchCV"
   ]
  },
  {
   "cell_type": "code",
   "execution_count": 2,
   "id": "210bd755",
   "metadata": {},
   "outputs": [],
   "source": [
    "#funcion delete\n",
    "def delete_column(df, column_name):\n",
    "    del df[column_name]\n",
    "    return \"column deleted\""
   ]
  },
  {
   "cell_type": "markdown",
   "id": "93e80bda",
   "metadata": {},
   "source": [
    "## Import train DF"
   ]
  },
  {
   "cell_type": "code",
   "execution_count": 3,
   "id": "e5b93580",
   "metadata": {},
   "outputs": [],
   "source": [
    "def conection(database):\n",
    "    connection = create_engine(\"sqlite:///\"+ database).connect()\n",
    "    return connection\n",
    "con = conection(\"../files/diamonds_train.db\")"
   ]
  },
  {
   "cell_type": "code",
   "execution_count": 4,
   "id": "68293780",
   "metadata": {},
   "outputs": [],
   "source": [
    "def query_diamond(query):\n",
    "    df_diamonds_full_train = pd.read_sql_query(query,con)\n",
    "    return df_diamonds_full_train\n",
    "\n",
    "query_diamonds_full_train = '''\n",
    "SELECT \n",
    "    d_prop.index_id,\n",
    "    \n",
    "    d_tran.carat,\n",
    "    d_cut.cut,\n",
    "    d_col.color,\n",
    "    d_clar.clarity,\n",
    "\n",
    "    d_dim.depth,\n",
    "    d_dim.'table',\n",
    "    d_dim.x,\n",
    "    d_dim.y,\n",
    "    d_dim.z,\n",
    "    \n",
    "    d_city.city,\n",
    "\n",
    "    d_tran.price\n",
    "    \n",
    "FROM diamonds_properties as d_prop\n",
    "    INNER JOIN diamonds_clarity as d_clar ON d_prop.clarity_id = d_clar.clarity_id\n",
    "    INNER JOIN diamonds_color as d_col ON d_prop.color_id = d_col.color_id\n",
    "    INNER JOIN diamonds_cut as d_cut ON d_prop.cut_id = d_cut.cut_id\n",
    "    INNER JOIN diamonds_dimensions as d_dim ON d_prop.index_id = d_dim.index_id\n",
    "    INNER JOIN diamonds_transactional as d_tran ON d_prop.index_id = d_tran.index_id\n",
    "    INNER JOIN diamonds_city as d_city ON d_tran.city_id = d_city.city_id\n",
    "'''\n",
    "\n",
    "df_diamonds_train = query_diamond(query_diamonds_full_train)"
   ]
  },
  {
   "cell_type": "code",
   "execution_count": 5,
   "id": "bd12c7ac",
   "metadata": {},
   "outputs": [
    {
     "data": {
      "text/html": [
       "<div>\n",
       "<style scoped>\n",
       "    .dataframe tbody tr th:only-of-type {\n",
       "        vertical-align: middle;\n",
       "    }\n",
       "\n",
       "    .dataframe tbody tr th {\n",
       "        vertical-align: top;\n",
       "    }\n",
       "\n",
       "    .dataframe thead th {\n",
       "        text-align: right;\n",
       "    }\n",
       "</style>\n",
       "<table border=\"1\" class=\"dataframe\">\n",
       "  <thead>\n",
       "    <tr style=\"text-align: right;\">\n",
       "      <th></th>\n",
       "      <th>index_id</th>\n",
       "      <th>carat</th>\n",
       "      <th>cut</th>\n",
       "      <th>color</th>\n",
       "      <th>clarity</th>\n",
       "      <th>depth</th>\n",
       "      <th>table</th>\n",
       "      <th>x</th>\n",
       "      <th>y</th>\n",
       "      <th>z</th>\n",
       "      <th>city</th>\n",
       "      <th>price</th>\n",
       "    </tr>\n",
       "  </thead>\n",
       "  <tbody>\n",
       "    <tr>\n",
       "      <th>0</th>\n",
       "      <td>5feceb66ffc86f38d952786c6d696c79c2dbc239dd4e91...</td>\n",
       "      <td>1.21</td>\n",
       "      <td>Premium</td>\n",
       "      <td>J</td>\n",
       "      <td>VS2</td>\n",
       "      <td>62.4</td>\n",
       "      <td>58.0</td>\n",
       "      <td>6.83</td>\n",
       "      <td>6.79</td>\n",
       "      <td>4.25</td>\n",
       "      <td>Dubai</td>\n",
       "      <td>4268</td>\n",
       "    </tr>\n",
       "    <tr>\n",
       "      <th>1</th>\n",
       "      <td>6b86b273ff34fce19d6b804eff5a3f5747ada4eaa22f1d...</td>\n",
       "      <td>0.32</td>\n",
       "      <td>Very Good</td>\n",
       "      <td>H</td>\n",
       "      <td>VS2</td>\n",
       "      <td>63.0</td>\n",
       "      <td>57.0</td>\n",
       "      <td>4.35</td>\n",
       "      <td>4.38</td>\n",
       "      <td>2.75</td>\n",
       "      <td>Kimberly</td>\n",
       "      <td>505</td>\n",
       "    </tr>\n",
       "    <tr>\n",
       "      <th>2</th>\n",
       "      <td>d4735e3a265e16eee03f59718b9b5d03019c07d8b6c51f...</td>\n",
       "      <td>0.71</td>\n",
       "      <td>Fair</td>\n",
       "      <td>G</td>\n",
       "      <td>VS1</td>\n",
       "      <td>65.5</td>\n",
       "      <td>55.0</td>\n",
       "      <td>5.62</td>\n",
       "      <td>5.53</td>\n",
       "      <td>3.65</td>\n",
       "      <td>Las Vegas</td>\n",
       "      <td>2686</td>\n",
       "    </tr>\n",
       "    <tr>\n",
       "      <th>3</th>\n",
       "      <td>4e07408562bedb8b60ce05c1decfe3ad16b72230967de0...</td>\n",
       "      <td>0.41</td>\n",
       "      <td>Good</td>\n",
       "      <td>D</td>\n",
       "      <td>SI1</td>\n",
       "      <td>63.8</td>\n",
       "      <td>56.0</td>\n",
       "      <td>4.68</td>\n",
       "      <td>4.72</td>\n",
       "      <td>3.00</td>\n",
       "      <td>Kimberly</td>\n",
       "      <td>738</td>\n",
       "    </tr>\n",
       "    <tr>\n",
       "      <th>4</th>\n",
       "      <td>4b227777d4dd1fc61c6f884f48641d02b4d121d3fd328c...</td>\n",
       "      <td>1.02</td>\n",
       "      <td>Ideal</td>\n",
       "      <td>G</td>\n",
       "      <td>SI1</td>\n",
       "      <td>60.5</td>\n",
       "      <td>59.0</td>\n",
       "      <td>6.55</td>\n",
       "      <td>6.51</td>\n",
       "      <td>3.95</td>\n",
       "      <td>Dubai</td>\n",
       "      <td>4882</td>\n",
       "    </tr>\n",
       "  </tbody>\n",
       "</table>\n",
       "</div>"
      ],
      "text/plain": [
       "                                            index_id  carat        cut color  \\\n",
       "0  5feceb66ffc86f38d952786c6d696c79c2dbc239dd4e91...   1.21    Premium     J   \n",
       "1  6b86b273ff34fce19d6b804eff5a3f5747ada4eaa22f1d...   0.32  Very Good     H   \n",
       "2  d4735e3a265e16eee03f59718b9b5d03019c07d8b6c51f...   0.71       Fair     G   \n",
       "3  4e07408562bedb8b60ce05c1decfe3ad16b72230967de0...   0.41       Good     D   \n",
       "4  4b227777d4dd1fc61c6f884f48641d02b4d121d3fd328c...   1.02      Ideal     G   \n",
       "\n",
       "  clarity  depth  table     x     y     z       city  price  \n",
       "0     VS2   62.4   58.0  6.83  6.79  4.25      Dubai   4268  \n",
       "1     VS2   63.0   57.0  4.35  4.38  2.75   Kimberly    505  \n",
       "2     VS1   65.5   55.0  5.62  5.53  3.65  Las Vegas   2686  \n",
       "3     SI1   63.8   56.0  4.68  4.72  3.00   Kimberly    738  \n",
       "4     SI1   60.5   59.0  6.55  6.51  3.95      Dubai   4882  "
      ]
     },
     "execution_count": 5,
     "metadata": {},
     "output_type": "execute_result"
    }
   ],
   "source": [
    "df_diamonds_train.head()"
   ]
  },
  {
   "cell_type": "code",
   "execution_count": 6,
   "id": "926bc8e3",
   "metadata": {},
   "outputs": [
    {
     "name": "stdout",
     "output_type": "stream",
     "text": [
      "<class 'pandas.core.frame.DataFrame'>\n",
      "RangeIndex: 40455 entries, 0 to 40454\n",
      "Data columns (total 12 columns):\n",
      " #   Column    Non-Null Count  Dtype  \n",
      "---  ------    --------------  -----  \n",
      " 0   index_id  40455 non-null  object \n",
      " 1   carat     40455 non-null  float64\n",
      " 2   cut       40455 non-null  object \n",
      " 3   color     40455 non-null  object \n",
      " 4   clarity   40455 non-null  object \n",
      " 5   depth     40455 non-null  float64\n",
      " 6   table     40455 non-null  float64\n",
      " 7   x         40455 non-null  float64\n",
      " 8   y         40455 non-null  float64\n",
      " 9   z         40455 non-null  float64\n",
      " 10  city      40455 non-null  object \n",
      " 11  price     40455 non-null  int64  \n",
      "dtypes: float64(6), int64(1), object(5)\n",
      "memory usage: 3.7+ MB\n"
     ]
    }
   ],
   "source": [
    "df_diamonds_train.info()"
   ]
  },
  {
   "cell_type": "code",
   "execution_count": 7,
   "id": "9fcf1dfc",
   "metadata": {},
   "outputs": [],
   "source": [
    "def ejecuciondatasetaugmentation(df_diamonds_train):\n",
    "    df_diamonds_train2 = df_diamonds_train.copy()\n",
    "    df_diamonds_train2[\"carat\"] = df_diamonds_train2[\"carat\"]+0.01\n",
    "    df_diamonds_train2[\"depth\"] = df_diamonds_train2[\"depth\"]+0.1\n",
    "    df_diamonds_train2[\"table\"] = df_diamonds_train2[\"table\"]+0.1\n",
    "    df_diamonds_train2[\"x\"] = df_diamonds_train2[\"x\"]+0.01\n",
    "    df_diamonds_train2[\"y\"] = df_diamonds_train2[\"y\"]+0.01\n",
    "    df_diamonds_train2[\"z\"] = df_diamonds_train2[\"z\"]+0.01\n",
    "    df_diamonds_train2[\"price\"] = df_diamonds_train2[\"price\"]+1\n",
    "\n",
    "    df_diamonds_train3 = pd.concat([df_diamonds_train,df_diamonds_train2], axis=0).reset_index(drop=True)\n",
    "\n",
    "    df_diamonds_train = df_diamonds_train3.copy()\n",
    "    return df_diamonds_train"
   ]
  },
  {
   "cell_type": "code",
   "execution_count": 8,
   "id": "ba50a106",
   "metadata": {},
   "outputs": [],
   "source": [
    "df_diamonds_train = ejecuciondatasetaugmentation(df_diamonds_train)\n",
    "df_diamonds_train = ejecuciondatasetaugmentation(df_diamonds_train)\n",
    "df_diamonds_train = ejecuciondatasetaugmentation(df_diamonds_train)\n",
    "df_diamonds_train = ejecuciondatasetaugmentation(df_diamonds_train)\n",
    "df_diamonds_train = ejecuciondatasetaugmentation(df_diamonds_train)"
   ]
  },
  {
   "cell_type": "code",
   "execution_count": 9,
   "id": "1a9b9c77",
   "metadata": {},
   "outputs": [],
   "source": [
    "#df_diamonds_train[df_diamonds_train[\"x\"]<1].index.tolist()"
   ]
  },
  {
   "cell_type": "code",
   "execution_count": 10,
   "id": "29a2371e",
   "metadata": {},
   "outputs": [],
   "source": [
    "#df_diamonds_train[df_diamonds_train[\"z\"]<1].index.tolist()"
   ]
  },
  {
   "cell_type": "code",
   "execution_count": 11,
   "id": "30a6d1f4",
   "metadata": {},
   "outputs": [],
   "source": [
    "#df_diamonds_train.drop(df_diamonds_train[df_diamonds_train[\"x\"]<1].index,axis=0,inplace=True)\n",
    "#df_diamonds_train.drop(df_diamonds_train[df_diamonds_train[\"z\"]<1].index,axis=0,inplace=True)"
   ]
  },
  {
   "cell_type": "code",
   "execution_count": 12,
   "id": "017ca7f3",
   "metadata": {},
   "outputs": [],
   "source": [
    "#df_diamonds_train[df_diamonds_train[\"y\"]<1].index.tolist()"
   ]
  },
  {
   "cell_type": "code",
   "execution_count": 13,
   "id": "d4fff2c7",
   "metadata": {},
   "outputs": [],
   "source": [
    "#df_diamonds_train[\"z\"].min()"
   ]
  },
  {
   "cell_type": "code",
   "execution_count": 14,
   "id": "ad4da009",
   "metadata": {},
   "outputs": [],
   "source": [
    "#import plotly.express as px\n",
    "#fig_inic = px.box(df_diamonds_train[\"price\"])\n",
    "#fig_inic.show()"
   ]
  },
  {
   "cell_type": "code",
   "execution_count": 15,
   "id": "b3253dd4",
   "metadata": {},
   "outputs": [],
   "source": [
    "df_diamonds_train[\"xy\"] = df_diamonds_train[\"x\"]*df_diamonds_train[\"y\"]"
   ]
  },
  {
   "cell_type": "code",
   "execution_count": 16,
   "id": "470ee1dd",
   "metadata": {},
   "outputs": [],
   "source": [
    "df_diamonds_train[\"dt\"] = df_diamonds_train[\"depth\"]/df_diamonds_train[\"table\"]"
   ]
  },
  {
   "cell_type": "code",
   "execution_count": 17,
   "id": "5ee430bd",
   "metadata": {},
   "outputs": [],
   "source": [
    "#df_diamonds_train[\"caratxy\"] = df_diamonds_train[\"carat\"]*df_diamonds_train[\"x\"]*df_diamonds_train[\"y\"]"
   ]
  },
  {
   "cell_type": "markdown",
   "id": "21ec3eff",
   "metadata": {},
   "source": [
    "### quitar outliers"
   ]
  },
  {
   "cell_type": "code",
   "execution_count": 18,
   "id": "8c6edf35",
   "metadata": {},
   "outputs": [],
   "source": [
    "#df_diamonds_train[df_diamonds_train[\"carat\"]>=4]"
   ]
  },
  {
   "cell_type": "code",
   "execution_count": 19,
   "id": "5ba7f60b",
   "metadata": {},
   "outputs": [],
   "source": [
    "#df_diamonds_train.drop(df_diamonds_train[df_diamonds_train[\"carat\"]>=4].index,axis=0,inplace=True)"
   ]
  },
  {
   "cell_type": "code",
   "execution_count": 20,
   "id": "ee1c6f88",
   "metadata": {},
   "outputs": [],
   "source": [
    "#df_diamonds_train= df_diamonds_train.reset_index(drop=True)\n",
    "#df_diamonds_train.head()"
   ]
  },
  {
   "cell_type": "markdown",
   "id": "995e1602",
   "metadata": {},
   "source": [
    "## Import test DF"
   ]
  },
  {
   "cell_type": "code",
   "execution_count": 21,
   "id": "0d5da1d5",
   "metadata": {},
   "outputs": [],
   "source": [
    "def import_csv_diamonds(location):\n",
    "    df_diamonds_test = pd.read_csv(location)\n",
    "    return df_diamonds_test\n",
    "\n",
    "df_diamonds_test = import_csv_diamonds(\"../files/diamonds_test.csv\")"
   ]
  },
  {
   "cell_type": "code",
   "execution_count": 22,
   "id": "fb820107",
   "metadata": {},
   "outputs": [
    {
     "data": {
      "text/html": [
       "<div>\n",
       "<style scoped>\n",
       "    .dataframe tbody tr th:only-of-type {\n",
       "        vertical-align: middle;\n",
       "    }\n",
       "\n",
       "    .dataframe tbody tr th {\n",
       "        vertical-align: top;\n",
       "    }\n",
       "\n",
       "    .dataframe thead th {\n",
       "        text-align: right;\n",
       "    }\n",
       "</style>\n",
       "<table border=\"1\" class=\"dataframe\">\n",
       "  <thead>\n",
       "    <tr style=\"text-align: right;\">\n",
       "      <th></th>\n",
       "      <th>id</th>\n",
       "      <th>carat</th>\n",
       "      <th>cut</th>\n",
       "      <th>color</th>\n",
       "      <th>clarity</th>\n",
       "      <th>depth</th>\n",
       "      <th>table</th>\n",
       "      <th>x</th>\n",
       "      <th>y</th>\n",
       "      <th>z</th>\n",
       "      <th>city</th>\n",
       "    </tr>\n",
       "  </thead>\n",
       "  <tbody>\n",
       "    <tr>\n",
       "      <th>0</th>\n",
       "      <td>0</td>\n",
       "      <td>0.79</td>\n",
       "      <td>Very Good</td>\n",
       "      <td>F</td>\n",
       "      <td>SI1</td>\n",
       "      <td>62.7</td>\n",
       "      <td>60.0</td>\n",
       "      <td>5.82</td>\n",
       "      <td>5.89</td>\n",
       "      <td>3.67</td>\n",
       "      <td>Amsterdam</td>\n",
       "    </tr>\n",
       "    <tr>\n",
       "      <th>1</th>\n",
       "      <td>1</td>\n",
       "      <td>1.20</td>\n",
       "      <td>Ideal</td>\n",
       "      <td>J</td>\n",
       "      <td>VS1</td>\n",
       "      <td>61.0</td>\n",
       "      <td>57.0</td>\n",
       "      <td>6.81</td>\n",
       "      <td>6.89</td>\n",
       "      <td>4.18</td>\n",
       "      <td>Surat</td>\n",
       "    </tr>\n",
       "    <tr>\n",
       "      <th>2</th>\n",
       "      <td>2</td>\n",
       "      <td>1.57</td>\n",
       "      <td>Premium</td>\n",
       "      <td>H</td>\n",
       "      <td>SI1</td>\n",
       "      <td>62.2</td>\n",
       "      <td>61.0</td>\n",
       "      <td>7.38</td>\n",
       "      <td>7.32</td>\n",
       "      <td>4.57</td>\n",
       "      <td>Kimberly</td>\n",
       "    </tr>\n",
       "    <tr>\n",
       "      <th>3</th>\n",
       "      <td>3</td>\n",
       "      <td>0.90</td>\n",
       "      <td>Very Good</td>\n",
       "      <td>F</td>\n",
       "      <td>SI1</td>\n",
       "      <td>63.8</td>\n",
       "      <td>54.0</td>\n",
       "      <td>6.09</td>\n",
       "      <td>6.13</td>\n",
       "      <td>3.90</td>\n",
       "      <td>Kimberly</td>\n",
       "    </tr>\n",
       "    <tr>\n",
       "      <th>4</th>\n",
       "      <td>4</td>\n",
       "      <td>0.50</td>\n",
       "      <td>Very Good</td>\n",
       "      <td>F</td>\n",
       "      <td>VS1</td>\n",
       "      <td>62.9</td>\n",
       "      <td>58.0</td>\n",
       "      <td>5.05</td>\n",
       "      <td>5.09</td>\n",
       "      <td>3.19</td>\n",
       "      <td>Amsterdam</td>\n",
       "    </tr>\n",
       "  </tbody>\n",
       "</table>\n",
       "</div>"
      ],
      "text/plain": [
       "   id  carat        cut color clarity  depth  table     x     y     z  \\\n",
       "0   0   0.79  Very Good     F     SI1   62.7   60.0  5.82  5.89  3.67   \n",
       "1   1   1.20      Ideal     J     VS1   61.0   57.0  6.81  6.89  4.18   \n",
       "2   2   1.57    Premium     H     SI1   62.2   61.0  7.38  7.32  4.57   \n",
       "3   3   0.90  Very Good     F     SI1   63.8   54.0  6.09  6.13  3.90   \n",
       "4   4   0.50  Very Good     F     VS1   62.9   58.0  5.05  5.09  3.19   \n",
       "\n",
       "        city  \n",
       "0  Amsterdam  \n",
       "1      Surat  \n",
       "2   Kimberly  \n",
       "3   Kimberly  \n",
       "4  Amsterdam  "
      ]
     },
     "execution_count": 22,
     "metadata": {},
     "output_type": "execute_result"
    }
   ],
   "source": [
    "df_diamonds_test.head()"
   ]
  },
  {
   "cell_type": "code",
   "execution_count": 23,
   "id": "aee49780",
   "metadata": {},
   "outputs": [],
   "source": [
    "df_diamonds_test[\"xy\"] = df_diamonds_test[\"x\"]*df_diamonds_test[\"y\"]"
   ]
  },
  {
   "cell_type": "code",
   "execution_count": 24,
   "id": "6ed5985a",
   "metadata": {},
   "outputs": [],
   "source": [
    "df_diamonds_test[\"dt\"] = df_diamonds_test[\"depth\"]/df_diamonds_test[\"table\"]"
   ]
  },
  {
   "cell_type": "code",
   "execution_count": 25,
   "id": "d078539d",
   "metadata": {},
   "outputs": [],
   "source": [
    "#df_diamonds_test[\"caratxy\"] = df_diamonds_test[\"carat\"]*df_diamonds_test[\"x\"]*df_diamonds_train[\"y\"]"
   ]
  },
  {
   "cell_type": "markdown",
   "id": "a20d9df6",
   "metadata": {},
   "source": [
    "## X_train, y_train"
   ]
  },
  {
   "cell_type": "code",
   "execution_count": 26,
   "id": "f117e7c7",
   "metadata": {},
   "outputs": [],
   "source": [
    "X_train_cat = df_diamonds_train.copy()\n",
    "delete_column(X_train_cat, \"price\")\n",
    "delete_column(X_train_cat, \"index_id\")\n",
    "delete_column(X_train_cat, \"z\")\n",
    "y_train_cat = df_diamonds_train[\"price\"]"
   ]
  },
  {
   "cell_type": "code",
   "execution_count": 27,
   "id": "11785b71",
   "metadata": {},
   "outputs": [],
   "source": [
    "X_train_cat[[\"cut\",\"color\",\"clarity\",\"city\"]] = X_train_cat[[\"cut\",\"color\",\"clarity\",\"city\"]].astype(\"category\")\n",
    "\n",
    "X_train_cat[\"cut\"] = X_train_cat[\"cut\"].cat.codes\n",
    "X_train_cat[\"color\"] = X_train_cat[\"color\"].cat.codes\n",
    "X_train_cat[\"clarity\"] = X_train_cat[\"clarity\"].cat.codes\n",
    "X_train_cat[\"city\"] = X_train_cat[\"city\"].cat.codes"
   ]
  },
  {
   "cell_type": "code",
   "execution_count": 28,
   "id": "6ba0db48",
   "metadata": {},
   "outputs": [],
   "source": [
    "X_train_cat[\"carat\"] = X_train_cat[\"carat\"]*10000\n",
    "X_train_cat[\"x\"] = X_train_cat[\"x\"]*10\n",
    "X_train_cat[\"y\"] = X_train_cat[\"y\"]*10"
   ]
  },
  {
   "cell_type": "code",
   "execution_count": 29,
   "id": "f8d12c61",
   "metadata": {},
   "outputs": [],
   "source": [
    "X_train_cat[\"xy\"] = X_train_cat[\"xy\"]*10"
   ]
  },
  {
   "cell_type": "code",
   "execution_count": 30,
   "id": "2e527315",
   "metadata": {},
   "outputs": [],
   "source": [
    "X_train_cat[\"carat2\"] = X_train_cat[\"carat\"]*100"
   ]
  },
  {
   "cell_type": "code",
   "execution_count": 31,
   "id": "28b792d0",
   "metadata": {},
   "outputs": [],
   "source": [
    "#X_train_cat[\"cut\"] = X_train_cat[\"cut\"]*10\n",
    "#X_train_cat[\"color\"] = X_train_cat[\"color\"]*10\n",
    "#X_train_cat[\"clarity\"] = X_train_cat[\"clarity\"]*10\n",
    "#X_train_cat[\"city\"] = X_train_cat[\"city\"]*10"
   ]
  },
  {
   "cell_type": "code",
   "execution_count": 32,
   "id": "d482aef1",
   "metadata": {},
   "outputs": [
    {
     "data": {
      "text/html": [
       "<div>\n",
       "<style scoped>\n",
       "    .dataframe tbody tr th:only-of-type {\n",
       "        vertical-align: middle;\n",
       "    }\n",
       "\n",
       "    .dataframe tbody tr th {\n",
       "        vertical-align: top;\n",
       "    }\n",
       "\n",
       "    .dataframe thead th {\n",
       "        text-align: right;\n",
       "    }\n",
       "</style>\n",
       "<table border=\"1\" class=\"dataframe\">\n",
       "  <thead>\n",
       "    <tr style=\"text-align: right;\">\n",
       "      <th></th>\n",
       "      <th>carat</th>\n",
       "      <th>cut</th>\n",
       "      <th>color</th>\n",
       "      <th>clarity</th>\n",
       "      <th>depth</th>\n",
       "      <th>table</th>\n",
       "      <th>x</th>\n",
       "      <th>y</th>\n",
       "      <th>city</th>\n",
       "      <th>xy</th>\n",
       "      <th>dt</th>\n",
       "      <th>carat2</th>\n",
       "    </tr>\n",
       "  </thead>\n",
       "  <tbody>\n",
       "    <tr>\n",
       "      <th>0</th>\n",
       "      <td>12100.0</td>\n",
       "      <td>3</td>\n",
       "      <td>6</td>\n",
       "      <td>5</td>\n",
       "      <td>62.4</td>\n",
       "      <td>58.0</td>\n",
       "      <td>68.3</td>\n",
       "      <td>67.9</td>\n",
       "      <td>2</td>\n",
       "      <td>463.757</td>\n",
       "      <td>1.075862</td>\n",
       "      <td>1210000.0</td>\n",
       "    </tr>\n",
       "    <tr>\n",
       "      <th>1</th>\n",
       "      <td>3200.0</td>\n",
       "      <td>4</td>\n",
       "      <td>4</td>\n",
       "      <td>5</td>\n",
       "      <td>63.0</td>\n",
       "      <td>57.0</td>\n",
       "      <td>43.5</td>\n",
       "      <td>43.8</td>\n",
       "      <td>3</td>\n",
       "      <td>190.530</td>\n",
       "      <td>1.105263</td>\n",
       "      <td>320000.0</td>\n",
       "    </tr>\n",
       "    <tr>\n",
       "      <th>2</th>\n",
       "      <td>7100.0</td>\n",
       "      <td>0</td>\n",
       "      <td>3</td>\n",
       "      <td>4</td>\n",
       "      <td>65.5</td>\n",
       "      <td>55.0</td>\n",
       "      <td>56.2</td>\n",
       "      <td>55.3</td>\n",
       "      <td>4</td>\n",
       "      <td>310.786</td>\n",
       "      <td>1.190909</td>\n",
       "      <td>710000.0</td>\n",
       "    </tr>\n",
       "    <tr>\n",
       "      <th>3</th>\n",
       "      <td>4100.0</td>\n",
       "      <td>1</td>\n",
       "      <td>0</td>\n",
       "      <td>2</td>\n",
       "      <td>63.8</td>\n",
       "      <td>56.0</td>\n",
       "      <td>46.8</td>\n",
       "      <td>47.2</td>\n",
       "      <td>3</td>\n",
       "      <td>220.896</td>\n",
       "      <td>1.139286</td>\n",
       "      <td>410000.0</td>\n",
       "    </tr>\n",
       "    <tr>\n",
       "      <th>4</th>\n",
       "      <td>10200.0</td>\n",
       "      <td>2</td>\n",
       "      <td>3</td>\n",
       "      <td>2</td>\n",
       "      <td>60.5</td>\n",
       "      <td>59.0</td>\n",
       "      <td>65.5</td>\n",
       "      <td>65.1</td>\n",
       "      <td>2</td>\n",
       "      <td>426.405</td>\n",
       "      <td>1.025424</td>\n",
       "      <td>1020000.0</td>\n",
       "    </tr>\n",
       "  </tbody>\n",
       "</table>\n",
       "</div>"
      ],
      "text/plain": [
       "     carat  cut  color  clarity  depth  table     x     y  city       xy  \\\n",
       "0  12100.0    3      6        5   62.4   58.0  68.3  67.9     2  463.757   \n",
       "1   3200.0    4      4        5   63.0   57.0  43.5  43.8     3  190.530   \n",
       "2   7100.0    0      3        4   65.5   55.0  56.2  55.3     4  310.786   \n",
       "3   4100.0    1      0        2   63.8   56.0  46.8  47.2     3  220.896   \n",
       "4  10200.0    2      3        2   60.5   59.0  65.5  65.1     2  426.405   \n",
       "\n",
       "         dt     carat2  \n",
       "0  1.075862  1210000.0  \n",
       "1  1.105263   320000.0  \n",
       "2  1.190909   710000.0  \n",
       "3  1.139286   410000.0  \n",
       "4  1.025424  1020000.0  "
      ]
     },
     "execution_count": 32,
     "metadata": {},
     "output_type": "execute_result"
    }
   ],
   "source": [
    "X_train_cat.head()"
   ]
  },
  {
   "cell_type": "markdown",
   "id": "b8752151",
   "metadata": {},
   "source": [
    "####  scaling - X_train"
   ]
  },
  {
   "cell_type": "markdown",
   "id": "e281e586",
   "metadata": {},
   "source": [
    "from sklearn.preprocessing import StandardScaler\n",
    "X_train_columns = X_train.columns.tolist()\n",
    "train_scaled = StandardScaler()\n",
    "train_scaled_fit = train_scaled.fit_transform(X_train[X_train_columns])\n",
    "X_train_scaled = pd.DataFrame(train_scaled_fit, columns = X_train_columns)\n",
    "X_train_scaled.head()"
   ]
  },
  {
   "cell_type": "code",
   "execution_count": null,
   "id": "ac82ff05",
   "metadata": {},
   "outputs": [],
   "source": []
  },
  {
   "cell_type": "markdown",
   "id": "c5b4d668",
   "metadata": {},
   "source": [
    "## X_test"
   ]
  },
  {
   "cell_type": "code",
   "execution_count": 33,
   "id": "8061a7af",
   "metadata": {},
   "outputs": [
    {
     "data": {
      "text/html": [
       "<div>\n",
       "<style scoped>\n",
       "    .dataframe tbody tr th:only-of-type {\n",
       "        vertical-align: middle;\n",
       "    }\n",
       "\n",
       "    .dataframe tbody tr th {\n",
       "        vertical-align: top;\n",
       "    }\n",
       "\n",
       "    .dataframe thead th {\n",
       "        text-align: right;\n",
       "    }\n",
       "</style>\n",
       "<table border=\"1\" class=\"dataframe\">\n",
       "  <thead>\n",
       "    <tr style=\"text-align: right;\">\n",
       "      <th></th>\n",
       "      <th>carat</th>\n",
       "      <th>cut</th>\n",
       "      <th>color</th>\n",
       "      <th>clarity</th>\n",
       "      <th>depth</th>\n",
       "      <th>table</th>\n",
       "      <th>x</th>\n",
       "      <th>y</th>\n",
       "      <th>city</th>\n",
       "      <th>xy</th>\n",
       "      <th>dt</th>\n",
       "    </tr>\n",
       "  </thead>\n",
       "  <tbody>\n",
       "    <tr>\n",
       "      <th>0</th>\n",
       "      <td>0.79</td>\n",
       "      <td>Very Good</td>\n",
       "      <td>F</td>\n",
       "      <td>SI1</td>\n",
       "      <td>62.7</td>\n",
       "      <td>60.0</td>\n",
       "      <td>5.82</td>\n",
       "      <td>5.89</td>\n",
       "      <td>Amsterdam</td>\n",
       "      <td>34.2798</td>\n",
       "      <td>1.045000</td>\n",
       "    </tr>\n",
       "    <tr>\n",
       "      <th>1</th>\n",
       "      <td>1.20</td>\n",
       "      <td>Ideal</td>\n",
       "      <td>J</td>\n",
       "      <td>VS1</td>\n",
       "      <td>61.0</td>\n",
       "      <td>57.0</td>\n",
       "      <td>6.81</td>\n",
       "      <td>6.89</td>\n",
       "      <td>Surat</td>\n",
       "      <td>46.9209</td>\n",
       "      <td>1.070175</td>\n",
       "    </tr>\n",
       "    <tr>\n",
       "      <th>2</th>\n",
       "      <td>1.57</td>\n",
       "      <td>Premium</td>\n",
       "      <td>H</td>\n",
       "      <td>SI1</td>\n",
       "      <td>62.2</td>\n",
       "      <td>61.0</td>\n",
       "      <td>7.38</td>\n",
       "      <td>7.32</td>\n",
       "      <td>Kimberly</td>\n",
       "      <td>54.0216</td>\n",
       "      <td>1.019672</td>\n",
       "    </tr>\n",
       "    <tr>\n",
       "      <th>3</th>\n",
       "      <td>0.90</td>\n",
       "      <td>Very Good</td>\n",
       "      <td>F</td>\n",
       "      <td>SI1</td>\n",
       "      <td>63.8</td>\n",
       "      <td>54.0</td>\n",
       "      <td>6.09</td>\n",
       "      <td>6.13</td>\n",
       "      <td>Kimberly</td>\n",
       "      <td>37.3317</td>\n",
       "      <td>1.181481</td>\n",
       "    </tr>\n",
       "    <tr>\n",
       "      <th>4</th>\n",
       "      <td>0.50</td>\n",
       "      <td>Very Good</td>\n",
       "      <td>F</td>\n",
       "      <td>VS1</td>\n",
       "      <td>62.9</td>\n",
       "      <td>58.0</td>\n",
       "      <td>5.05</td>\n",
       "      <td>5.09</td>\n",
       "      <td>Amsterdam</td>\n",
       "      <td>25.7045</td>\n",
       "      <td>1.084483</td>\n",
       "    </tr>\n",
       "    <tr>\n",
       "      <th>...</th>\n",
       "      <td>...</td>\n",
       "      <td>...</td>\n",
       "      <td>...</td>\n",
       "      <td>...</td>\n",
       "      <td>...</td>\n",
       "      <td>...</td>\n",
       "      <td>...</td>\n",
       "      <td>...</td>\n",
       "      <td>...</td>\n",
       "      <td>...</td>\n",
       "      <td>...</td>\n",
       "    </tr>\n",
       "    <tr>\n",
       "      <th>13480</th>\n",
       "      <td>0.57</td>\n",
       "      <td>Ideal</td>\n",
       "      <td>E</td>\n",
       "      <td>SI1</td>\n",
       "      <td>61.9</td>\n",
       "      <td>56.0</td>\n",
       "      <td>5.35</td>\n",
       "      <td>5.32</td>\n",
       "      <td>Amsterdam</td>\n",
       "      <td>28.4620</td>\n",
       "      <td>1.105357</td>\n",
       "    </tr>\n",
       "    <tr>\n",
       "      <th>13481</th>\n",
       "      <td>0.71</td>\n",
       "      <td>Ideal</td>\n",
       "      <td>I</td>\n",
       "      <td>VS2</td>\n",
       "      <td>62.2</td>\n",
       "      <td>55.0</td>\n",
       "      <td>5.71</td>\n",
       "      <td>5.73</td>\n",
       "      <td>New York City</td>\n",
       "      <td>32.7183</td>\n",
       "      <td>1.130909</td>\n",
       "    </tr>\n",
       "    <tr>\n",
       "      <th>13482</th>\n",
       "      <td>0.70</td>\n",
       "      <td>Ideal</td>\n",
       "      <td>F</td>\n",
       "      <td>VS1</td>\n",
       "      <td>61.6</td>\n",
       "      <td>55.0</td>\n",
       "      <td>5.75</td>\n",
       "      <td>5.71</td>\n",
       "      <td>Tel Aviv</td>\n",
       "      <td>32.8325</td>\n",
       "      <td>1.120000</td>\n",
       "    </tr>\n",
       "    <tr>\n",
       "      <th>13483</th>\n",
       "      <td>0.70</td>\n",
       "      <td>Very Good</td>\n",
       "      <td>F</td>\n",
       "      <td>SI2</td>\n",
       "      <td>58.8</td>\n",
       "      <td>57.0</td>\n",
       "      <td>5.85</td>\n",
       "      <td>5.89</td>\n",
       "      <td>Surat</td>\n",
       "      <td>34.4565</td>\n",
       "      <td>1.031579</td>\n",
       "    </tr>\n",
       "    <tr>\n",
       "      <th>13484</th>\n",
       "      <td>0.40</td>\n",
       "      <td>Ideal</td>\n",
       "      <td>I</td>\n",
       "      <td>VVS2</td>\n",
       "      <td>62.4</td>\n",
       "      <td>55.0</td>\n",
       "      <td>4.70</td>\n",
       "      <td>4.73</td>\n",
       "      <td>New York City</td>\n",
       "      <td>22.2310</td>\n",
       "      <td>1.134545</td>\n",
       "    </tr>\n",
       "  </tbody>\n",
       "</table>\n",
       "<p>13485 rows × 11 columns</p>\n",
       "</div>"
      ],
      "text/plain": [
       "       carat        cut color clarity  depth  table     x     y  \\\n",
       "0       0.79  Very Good     F     SI1   62.7   60.0  5.82  5.89   \n",
       "1       1.20      Ideal     J     VS1   61.0   57.0  6.81  6.89   \n",
       "2       1.57    Premium     H     SI1   62.2   61.0  7.38  7.32   \n",
       "3       0.90  Very Good     F     SI1   63.8   54.0  6.09  6.13   \n",
       "4       0.50  Very Good     F     VS1   62.9   58.0  5.05  5.09   \n",
       "...      ...        ...   ...     ...    ...    ...   ...   ...   \n",
       "13480   0.57      Ideal     E     SI1   61.9   56.0  5.35  5.32   \n",
       "13481   0.71      Ideal     I     VS2   62.2   55.0  5.71  5.73   \n",
       "13482   0.70      Ideal     F     VS1   61.6   55.0  5.75  5.71   \n",
       "13483   0.70  Very Good     F     SI2   58.8   57.0  5.85  5.89   \n",
       "13484   0.40      Ideal     I    VVS2   62.4   55.0  4.70  4.73   \n",
       "\n",
       "                city       xy        dt  \n",
       "0          Amsterdam  34.2798  1.045000  \n",
       "1              Surat  46.9209  1.070175  \n",
       "2           Kimberly  54.0216  1.019672  \n",
       "3           Kimberly  37.3317  1.181481  \n",
       "4          Amsterdam  25.7045  1.084483  \n",
       "...              ...      ...       ...  \n",
       "13480      Amsterdam  28.4620  1.105357  \n",
       "13481  New York City  32.7183  1.130909  \n",
       "13482       Tel Aviv  32.8325  1.120000  \n",
       "13483          Surat  34.4565  1.031579  \n",
       "13484  New York City  22.2310  1.134545  \n",
       "\n",
       "[13485 rows x 11 columns]"
      ]
     },
     "execution_count": 33,
     "metadata": {},
     "output_type": "execute_result"
    }
   ],
   "source": [
    "X_test = df_diamonds_test.copy()\n",
    "delete_column(X_test, \"id\")\n",
    "delete_column(X_test, \"z\")\n",
    "X_test"
   ]
  },
  {
   "cell_type": "code",
   "execution_count": 34,
   "id": "f7082e81",
   "metadata": {},
   "outputs": [],
   "source": [
    "X_test[[\"cut\",\"color\",\"clarity\",\"city\"]] = X_test[[\"cut\",\"color\",\"clarity\",\"city\"]].astype(\"category\")\n",
    "\n",
    "X_test[\"cut\"] = X_test[\"cut\"].cat.codes\n",
    "X_test[\"color\"] = X_test[\"color\"].cat.codes\n",
    "X_test[\"clarity\"] = X_test[\"clarity\"].cat.codes\n",
    "X_test[\"city\"] = X_test[\"city\"].cat.codes"
   ]
  },
  {
   "cell_type": "code",
   "execution_count": 35,
   "id": "fa60bad1",
   "metadata": {},
   "outputs": [],
   "source": [
    "X_test[\"carat\"] = X_test[\"carat\"]*10000\n",
    "X_test[\"x\"] = X_test[\"x\"]*10\n",
    "X_test[\"y\"] = X_test[\"y\"]*10"
   ]
  },
  {
   "cell_type": "code",
   "execution_count": 36,
   "id": "71f5facf",
   "metadata": {},
   "outputs": [],
   "source": [
    "#X_test[\"cut\"] = X_test[\"cut\"]*10\n",
    "#X_test[\"color\"] = X_test[\"color\"]*10\n",
    "#X_test[\"clarity\"] = X_test[\"clarity\"]*10\n",
    "#X_test[\"city\"] = X_test[\"city\"]*10"
   ]
  },
  {
   "cell_type": "code",
   "execution_count": 37,
   "id": "d92f0675",
   "metadata": {},
   "outputs": [],
   "source": [
    "X_test[\"xy\"] = X_test[\"xy\"]*10"
   ]
  },
  {
   "cell_type": "code",
   "execution_count": 38,
   "id": "0a971633",
   "metadata": {},
   "outputs": [],
   "source": [
    "X_test[\"carat2\"] = X_test[\"carat\"]*100"
   ]
  },
  {
   "cell_type": "code",
   "execution_count": 39,
   "id": "d2a52c99",
   "metadata": {},
   "outputs": [
    {
     "data": {
      "text/html": [
       "<div>\n",
       "<style scoped>\n",
       "    .dataframe tbody tr th:only-of-type {\n",
       "        vertical-align: middle;\n",
       "    }\n",
       "\n",
       "    .dataframe tbody tr th {\n",
       "        vertical-align: top;\n",
       "    }\n",
       "\n",
       "    .dataframe thead th {\n",
       "        text-align: right;\n",
       "    }\n",
       "</style>\n",
       "<table border=\"1\" class=\"dataframe\">\n",
       "  <thead>\n",
       "    <tr style=\"text-align: right;\">\n",
       "      <th></th>\n",
       "      <th>carat</th>\n",
       "      <th>cut</th>\n",
       "      <th>color</th>\n",
       "      <th>clarity</th>\n",
       "      <th>depth</th>\n",
       "      <th>table</th>\n",
       "      <th>x</th>\n",
       "      <th>y</th>\n",
       "      <th>city</th>\n",
       "      <th>xy</th>\n",
       "      <th>dt</th>\n",
       "      <th>carat2</th>\n",
       "    </tr>\n",
       "  </thead>\n",
       "  <tbody>\n",
       "    <tr>\n",
       "      <th>0</th>\n",
       "      <td>7900.0</td>\n",
       "      <td>4</td>\n",
       "      <td>2</td>\n",
       "      <td>2</td>\n",
       "      <td>62.7</td>\n",
       "      <td>60.0</td>\n",
       "      <td>58.2</td>\n",
       "      <td>58.9</td>\n",
       "      <td>0</td>\n",
       "      <td>342.798</td>\n",
       "      <td>1.045000</td>\n",
       "      <td>790000.0</td>\n",
       "    </tr>\n",
       "    <tr>\n",
       "      <th>1</th>\n",
       "      <td>12000.0</td>\n",
       "      <td>2</td>\n",
       "      <td>6</td>\n",
       "      <td>4</td>\n",
       "      <td>61.0</td>\n",
       "      <td>57.0</td>\n",
       "      <td>68.1</td>\n",
       "      <td>68.9</td>\n",
       "      <td>10</td>\n",
       "      <td>469.209</td>\n",
       "      <td>1.070175</td>\n",
       "      <td>1200000.0</td>\n",
       "    </tr>\n",
       "    <tr>\n",
       "      <th>2</th>\n",
       "      <td>15700.0</td>\n",
       "      <td>3</td>\n",
       "      <td>4</td>\n",
       "      <td>2</td>\n",
       "      <td>62.2</td>\n",
       "      <td>61.0</td>\n",
       "      <td>73.8</td>\n",
       "      <td>73.2</td>\n",
       "      <td>3</td>\n",
       "      <td>540.216</td>\n",
       "      <td>1.019672</td>\n",
       "      <td>1570000.0</td>\n",
       "    </tr>\n",
       "    <tr>\n",
       "      <th>3</th>\n",
       "      <td>9000.0</td>\n",
       "      <td>4</td>\n",
       "      <td>2</td>\n",
       "      <td>2</td>\n",
       "      <td>63.8</td>\n",
       "      <td>54.0</td>\n",
       "      <td>60.9</td>\n",
       "      <td>61.3</td>\n",
       "      <td>3</td>\n",
       "      <td>373.317</td>\n",
       "      <td>1.181481</td>\n",
       "      <td>900000.0</td>\n",
       "    </tr>\n",
       "    <tr>\n",
       "      <th>4</th>\n",
       "      <td>5000.0</td>\n",
       "      <td>4</td>\n",
       "      <td>2</td>\n",
       "      <td>4</td>\n",
       "      <td>62.9</td>\n",
       "      <td>58.0</td>\n",
       "      <td>50.5</td>\n",
       "      <td>50.9</td>\n",
       "      <td>0</td>\n",
       "      <td>257.045</td>\n",
       "      <td>1.084483</td>\n",
       "      <td>500000.0</td>\n",
       "    </tr>\n",
       "  </tbody>\n",
       "</table>\n",
       "</div>"
      ],
      "text/plain": [
       "     carat  cut  color  clarity  depth  table     x     y  city       xy  \\\n",
       "0   7900.0    4      2        2   62.7   60.0  58.2  58.9     0  342.798   \n",
       "1  12000.0    2      6        4   61.0   57.0  68.1  68.9    10  469.209   \n",
       "2  15700.0    3      4        2   62.2   61.0  73.8  73.2     3  540.216   \n",
       "3   9000.0    4      2        2   63.8   54.0  60.9  61.3     3  373.317   \n",
       "4   5000.0    4      2        4   62.9   58.0  50.5  50.9     0  257.045   \n",
       "\n",
       "         dt     carat2  \n",
       "0  1.045000   790000.0  \n",
       "1  1.070175  1200000.0  \n",
       "2  1.019672  1570000.0  \n",
       "3  1.181481   900000.0  \n",
       "4  1.084483   500000.0  "
      ]
     },
     "execution_count": 39,
     "metadata": {},
     "output_type": "execute_result"
    }
   ],
   "source": [
    "X_test.head()"
   ]
  },
  {
   "cell_type": "markdown",
   "id": "00de301e",
   "metadata": {},
   "source": [
    "####  scaling - X_test"
   ]
  },
  {
   "cell_type": "markdown",
   "id": "46c4672c",
   "metadata": {},
   "source": [
    "X_test_columns = X_test.columns.tolist()\n",
    "train_scaled = StandardScaler()\n",
    "train_scaled_fit = train_scaled.fit_transform(X_test[X_test_columns])\n",
    "X_test_scaled = pd.DataFrame(train_scaled_fit, columns = X_test_columns)\n",
    "X_test_scaled.head()"
   ]
  },
  {
   "cell_type": "code",
   "execution_count": null,
   "id": "08765e4f",
   "metadata": {},
   "outputs": [],
   "source": []
  },
  {
   "cell_type": "markdown",
   "id": "c6a4c1c8",
   "metadata": {},
   "source": [
    "## MODEL"
   ]
  },
  {
   "cell_type": "code",
   "execution_count": 40,
   "id": "418c917e",
   "metadata": {},
   "outputs": [
    {
     "data": {
      "text/plain": [
       "'from sklearn.ensemble import RandomForestRegressor\\nmodel = RandomForestRegressor()\\nmodel.fit(X_train_cat, y_train_cat)\\npredictions = model.predict(X_test).clip(350,18000)\\nid_predictions = [i for i in range(0,len(predictions))]\\npredictions_df = pd.DataFrame({\"id\":id_predictions , \"price\":predictions })\\npredictions_df.head()\\npredictions_df.to_csv(\"all_variables_cat_codes_manual_escaling_in_numeric_maspesocarat_random_forest.csv\", sep=\",\", index=False)'"
      ]
     },
     "execution_count": 40,
     "metadata": {},
     "output_type": "execute_result"
    }
   ],
   "source": [
    "#sin optimizar \n",
    "\"\"\"from sklearn.ensemble import RandomForestRegressor\n",
    "model = RandomForestRegressor()\n",
    "model.fit(X_train_cat, y_train_cat)\n",
    "predictions = model.predict(X_test).clip(350,18000)\n",
    "id_predictions = [i for i in range(0,len(predictions))]\n",
    "predictions_df = pd.DataFrame({\"id\":id_predictions , \"price\":predictions })\n",
    "predictions_df.head()\n",
    "predictions_df.to_csv(\"all_variables_cat_codes_manual_escaling_in_numeric_maspesocarat_random_forest.csv\", sep=\",\", index=False)\"\"\""
   ]
  },
  {
   "cell_type": "code",
   "execution_count": 41,
   "id": "46c10625",
   "metadata": {},
   "outputs": [
    {
     "data": {
      "text/plain": [
       "'from xgboost.sklearn import XGBClassifier\\nmodel = XGBClassifier()\\nmodel.fit(X_train_cat, y_train_cat)\\npredictions = model.predict(X_test).clip(350,18000)\\nid_predictions = [i for i in range(0,len(predictions))]\\npredictions_df = pd.DataFrame({\"id\":id_predictions , \"price\":predictions })\\npredictions_df.head()\\npredictions_df.to_csv(\"all_variables_cat_codes_manual_escaling_in_numeric_maspesocarat_xgbclassifier.csv\", sep=\",\", index=False)'"
      ]
     },
     "execution_count": 41,
     "metadata": {},
     "output_type": "execute_result"
    }
   ],
   "source": [
    "#sin optimizar \n",
    "\"\"\"from xgboost.sklearn import XGBClassifier\n",
    "model = XGBClassifier()\n",
    "model.fit(X_train_cat, y_train_cat)\n",
    "predictions = model.predict(X_test).clip(350,18000)\n",
    "id_predictions = [i for i in range(0,len(predictions))]\n",
    "predictions_df = pd.DataFrame({\"id\":id_predictions , \"price\":predictions })\n",
    "predictions_df.head()\n",
    "predictions_df.to_csv(\"all_variables_cat_codes_manual_escaling_in_numeric_maspesocarat_xgbclassifier.csv\", sep=\",\", index=False)\"\"\""
   ]
  },
  {
   "cell_type": "markdown",
   "id": "4894d3f4",
   "metadata": {},
   "source": [
    "## XGB OPT - peor modelo en cuanto a prdicción, aunque muy parecido a random forest"
   ]
  },
  {
   "cell_type": "code",
   "execution_count": 42,
   "id": "b0f58dba",
   "metadata": {},
   "outputs": [
    {
     "data": {
      "text/plain": [
       "'import xgboost as xgb\\nfrom sklearn.model_selection import train_test_split, GridSearchCV, StratifiedKFold\\n\\n\\nX_train,X_test,y_train,y_test = train_test_split(X_train_cat, y_train_cat, test_size=0.2)\\nxgb_model = xgb.XGBRegressor()\\n\\n# Define the parameter options for the Grid Search\\nparameters = {}\\n\\n# Define the GridSearch class, including cross-validation, using your XGBoost model\\nclf = GridSearchCV(xgb_model, parameters)#, cv=StratifiedKFold(cv=5, shuffle=True).split(X_train, y_train))\\n\\n# Fit the model\\nclf.fit(X_train, y_train)\\n\\nbest_estimator = clf.best_estimator_\\nbest_estimator'"
      ]
     },
     "execution_count": 42,
     "metadata": {},
     "output_type": "execute_result"
    }
   ],
   "source": [
    "\"\"\"import xgboost as xgb\n",
    "from sklearn.model_selection import train_test_split, GridSearchCV, StratifiedKFold\n",
    "\n",
    "\n",
    "X_train,X_test,y_train,y_test = train_test_split(X_train_cat, y_train_cat, test_size=0.2)\n",
    "xgb_model = xgb.XGBRegressor()\n",
    "\n",
    "# Define the parameter options for the Grid Search\n",
    "parameters = {}\n",
    "\n",
    "# Define the GridSearch class, including cross-validation, using your XGBoost model\n",
    "clf = GridSearchCV(xgb_model, parameters)#, cv=StratifiedKFold(cv=5, shuffle=True).split(X_train, y_train))\n",
    "\n",
    "# Fit the model\n",
    "clf.fit(X_train, y_train)\n",
    "\n",
    "best_estimator = clf.best_estimator_\n",
    "best_estimator\"\"\""
   ]
  },
  {
   "cell_type": "code",
   "execution_count": 43,
   "id": "69e174d1",
   "metadata": {},
   "outputs": [
    {
     "data": {
      "text/plain": [
       "'from xgboost import XGBRegressor\\nmodel = XGBRegressor(base_score=0.5, booster=\\'gbtree\\', colsample_bylevel=1,\\n             colsample_bynode=1, colsample_bytree=1, enable_categorical=False,\\n             gamma=0, gpu_id=-1, importance_type=None,\\n             interaction_constraints=\\'\\', learning_rate=0.300000012,\\n             max_delta_step=0, max_depth=6, min_child_weight=1, #missing=NaN,\\n             monotone_constraints=\\'()\\', n_estimators=100, n_jobs=8,\\n             num_parallel_tree=1, predictor=\\'auto\\', random_state=0, reg_alpha=0,\\n             reg_lambda=1, scale_pos_weight=1, subsample=1, tree_method=\\'exact\\',\\n             validate_parameters=1, verbosity=None)\\nmodel.fit(X_train_cat, y_train_cat)#, eval_metric=\\'auc\\')\\npredictions = model.predict(X_test).clip(350,18000)\\nid_predictions = [i for i in range(0,len(predictions))]\\npredictions_df = pd.DataFrame({\"id\":id_predictions , \"price\":predictions })\\npredictions_df.head()\\npredictions_df.to_csv(\"all_variables_cat_codes_manual_escaling_in_numeric_maspesocarat_xgbregressor7_params.csv\", sep=\",\", index=False)'"
      ]
     },
     "execution_count": 43,
     "metadata": {},
     "output_type": "execute_result"
    }
   ],
   "source": [
    "\"\"\"from xgboost import XGBRegressor\n",
    "model = XGBRegressor(base_score=0.5, booster='gbtree', colsample_bylevel=1,\n",
    "             colsample_bynode=1, colsample_bytree=1, enable_categorical=False,\n",
    "             gamma=0, gpu_id=-1, importance_type=None,\n",
    "             interaction_constraints='', learning_rate=0.300000012,\n",
    "             max_delta_step=0, max_depth=6, min_child_weight=1, #missing=NaN,\n",
    "             monotone_constraints='()', n_estimators=100, n_jobs=8,\n",
    "             num_parallel_tree=1, predictor='auto', random_state=0, reg_alpha=0,\n",
    "             reg_lambda=1, scale_pos_weight=1, subsample=1, tree_method='exact',\n",
    "             validate_parameters=1, verbosity=None)\n",
    "model.fit(X_train_cat, y_train_cat)#, eval_metric='auc')\n",
    "predictions = model.predict(X_test).clip(350,18000)\n",
    "id_predictions = [i for i in range(0,len(predictions))]\n",
    "predictions_df = pd.DataFrame({\"id\":id_predictions , \"price\":predictions })\n",
    "predictions_df.head()\n",
    "predictions_df.to_csv(\"all_variables_cat_codes_manual_escaling_in_numeric_maspesocarat_xgbregressor7_params.csv\", sep=\",\", index=False)\"\"\""
   ]
  },
  {
   "cell_type": "code",
   "execution_count": null,
   "id": "e9d016ed",
   "metadata": {},
   "outputs": [],
   "source": []
  },
  {
   "cell_type": "markdown",
   "id": "e3fe0d23",
   "metadata": {},
   "source": [
    "## RANDOM FOREST OPT"
   ]
  },
  {
   "cell_type": "code",
   "execution_count": 44,
   "id": "7a21f45e",
   "metadata": {},
   "outputs": [
    {
     "data": {
      "text/plain": [
       "\"from sklearn.ensemble import RandomForestRegressor\\n\\nfrom sklearn.model_selection import RandomizedSearchCV\\n# Number of trees in random forest\\nn_estimators = [int(x) for x in np.linspace(start = 200, stop = 2000, num = 10)]\\n# Number of features to consider at every split\\nmax_features = ['auto', 'sqrt']\\n# Maximum number of levels in tree\\nmax_depth = [int(x) for x in np.linspace(10, 110, num = 11)]\\nmax_depth.append(None)\\n# Minimum number of samples required to split a node\\nmin_samples_split = [2, 5, 10]\\n# Minimum number of samples required at each leaf node\\nmin_samples_leaf = [1, 2, 4]\\n# Method of selecting samples for training each tree\\nbootstrap = [True, False]\\n# Create the random grid\\nrandom_grid = {'n_estimators': n_estimators,\\n               'max_features': max_features,\\n               'max_depth': max_depth,\\n               'min_samples_split': min_samples_split,\\n               'min_samples_leaf': min_samples_leaf,\\n               'bootstrap': bootstrap}\""
      ]
     },
     "execution_count": 44,
     "metadata": {},
     "output_type": "execute_result"
    }
   ],
   "source": [
    "\"\"\"from sklearn.ensemble import RandomForestRegressor\n",
    "\n",
    "from sklearn.model_selection import RandomizedSearchCV\n",
    "# Number of trees in random forest\n",
    "n_estimators = [int(x) for x in np.linspace(start = 200, stop = 2000, num = 10)]\n",
    "# Number of features to consider at every split\n",
    "max_features = ['auto', 'sqrt']\n",
    "# Maximum number of levels in tree\n",
    "max_depth = [int(x) for x in np.linspace(10, 110, num = 11)]\n",
    "max_depth.append(None)\n",
    "# Minimum number of samples required to split a node\n",
    "min_samples_split = [2, 5, 10]\n",
    "# Minimum number of samples required at each leaf node\n",
    "min_samples_leaf = [1, 2, 4]\n",
    "# Method of selecting samples for training each tree\n",
    "bootstrap = [True, False]\n",
    "# Create the random grid\n",
    "random_grid = {'n_estimators': n_estimators,\n",
    "               'max_features': max_features,\n",
    "               'max_depth': max_depth,\n",
    "               'min_samples_split': min_samples_split,\n",
    "               'min_samples_leaf': min_samples_leaf,\n",
    "               'bootstrap': bootstrap}\"\"\""
   ]
  },
  {
   "cell_type": "code",
   "execution_count": 45,
   "id": "16df9dae",
   "metadata": {},
   "outputs": [
    {
     "data": {
      "text/plain": [
       "'X_train,X_test,y_train,y_test = train_test_split(X_train_cat, y_train_cat, test_size=0.2)\\n# Use the random grid to search for best hyperparameters\\n# First create the base model to tune\\nrf = RandomForestRegressor()\\n# Random search of parameters, using 3 fold cross validation, \\n# search across 100 different combinations, and use all available cores\\nrf_random = RandomizedSearchCV(estimator = rf, param_distributions = random_grid, n_iter = 100, cv = 3, verbose=2, random_state=42, n_jobs = -1)\\n# Fit the random search model\\nrf_random.fit(X_train, y_train)\\nrf_random.best_params_'"
      ]
     },
     "execution_count": 45,
     "metadata": {},
     "output_type": "execute_result"
    }
   ],
   "source": [
    "\"\"\"X_train,X_test,y_train,y_test = train_test_split(X_train_cat, y_train_cat, test_size=0.2)\n",
    "# Use the random grid to search for best hyperparameters\n",
    "# First create the base model to tune\n",
    "rf = RandomForestRegressor()\n",
    "# Random search of parameters, using 3 fold cross validation, \n",
    "# search across 100 different combinations, and use all available cores\n",
    "rf_random = RandomizedSearchCV(estimator = rf, param_distributions = random_grid, n_iter = 100, cv = 3, verbose=2, random_state=42, n_jobs = -1)\n",
    "# Fit the random search model\n",
    "rf_random.fit(X_train, y_train)\n",
    "rf_random.best_params_\"\"\""
   ]
  },
  {
   "cell_type": "code",
   "execution_count": null,
   "id": "ff3f2b9b",
   "metadata": {},
   "outputs": [],
   "source": []
  },
  {
   "cell_type": "code",
   "execution_count": 46,
   "id": "86bd803f",
   "metadata": {},
   "outputs": [
    {
     "data": {
      "text/plain": [
       "'from sklearn.ensemble import RandomForestRegressor\\nmodel = RandomForestRegressor(n_estimators= 1400,\\n min_samples_split= 2,\\n min_samples_leaf= 1,\\n max_features= \\'auto\\',\\n max_depth= 100,\\n bootstrap= True)\\nmodel.fit(X_train_cat, y_train_cat)\\npredictions = model.predict(X_test).clip(350,18000)\\nid_predictions = [i for i in range(0,len(predictions))]\\npredictions_df = pd.DataFrame({\"id\":id_predictions , \"price\":predictions })\\npredictions_df.head()\\npredictions_df.to_csv(\"all_variables_cat_codes_manual_escaling_in_numeric_maspesocarat_differetnmodels2_no_z_new_columns3_opt_class_hiperparameters.csv\", sep=\",\", index=False)'"
      ]
     },
     "execution_count": 46,
     "metadata": {},
     "output_type": "execute_result"
    }
   ],
   "source": [
    "\"\"\"from sklearn.ensemble import RandomForestRegressor\n",
    "model = RandomForestRegressor(n_estimators= 1400,\n",
    " min_samples_split= 2,\n",
    " min_samples_leaf= 1,\n",
    " max_features= 'auto',\n",
    " max_depth= 100,\n",
    " bootstrap= True)\n",
    "model.fit(X_train_cat, y_train_cat)\n",
    "predictions = model.predict(X_test).clip(350,18000)\n",
    "id_predictions = [i for i in range(0,len(predictions))]\n",
    "predictions_df = pd.DataFrame({\"id\":id_predictions , \"price\":predictions })\n",
    "predictions_df.head()\n",
    "predictions_df.to_csv(\"all_variables_cat_codes_manual_escaling_in_numeric_maspesocarat_differetnmodels2_no_z_new_columns3_opt_class_hiperparameters.csv\", sep=\",\", index=False)\"\"\""
   ]
  },
  {
   "cell_type": "markdown",
   "id": "a83de2d8",
   "metadata": {},
   "source": [
    "## GridSearchCV()"
   ]
  },
  {
   "cell_type": "code",
   "execution_count": 47,
   "id": "9757aec9",
   "metadata": {},
   "outputs": [],
   "source": [
    "#from sklearn.ensemble import RandomForestRegressor\n",
    "\n",
    "#model = RandomForestRegressor(random_state = 42)\n",
    "#model.fit(X_train_cat, y_train_cat)"
   ]
  },
  {
   "cell_type": "code",
   "execution_count": 48,
   "id": "88930f86",
   "metadata": {},
   "outputs": [],
   "source": [
    "#param_grid = {'n_estimators': [16, 32, 64, 128, 256, 512],\n",
    "#              'max_depth': [2, 4, 8, 16]}"
   ]
  },
  {
   "cell_type": "code",
   "execution_count": 49,
   "id": "28cae5da",
   "metadata": {},
   "outputs": [],
   "source": [
    "#grid_search = RandomizedSearchCV(model, \n",
    "#                                 param_grid, \n",
    "#                                 cv=5, \n",
    "#                                 verbose=3, \n",
    "#                                 scoring='neg_root_mean_squared_error', \n",
    "#                                 n_jobs=-1)"
   ]
  },
  {
   "cell_type": "code",
   "execution_count": 50,
   "id": "14cf6093",
   "metadata": {},
   "outputs": [],
   "source": [
    "#grid_search.fit(X_train_cat,y_train_cat)\n",
    "\n",
    "#print('\\n', 'Best hyperparameters: ', grid_search.best_params_, '\\n')\n",
    "#print('Best score: ', -grid_search.best_score_, '\\n')"
   ]
  },
  {
   "cell_type": "code",
   "execution_count": null,
   "id": "58c1c157",
   "metadata": {},
   "outputs": [],
   "source": []
  },
  {
   "cell_type": "code",
   "execution_count": null,
   "id": "83609751",
   "metadata": {},
   "outputs": [],
   "source": [
    "from sklearn.ensemble import RandomForestRegressor\n",
    "model = RandomForestRegressor(n_estimators= 1024,\n",
    " max_depth= 16)\n",
    "model.fit(X_train_cat, y_train_cat)\n",
    "predictions = model.predict(X_test).clip(350,18000)\n",
    "id_predictions = [i for i in range(0,len(predictions))]\n",
    "predictions_df = pd.DataFrame({\"id\":id_predictions , \"price\":predictions })\n",
    "predictions_df.head()\n",
    "predictions_df.to_csv(\"all_variables_cat_codes_manual_escaling_in_numeric_maspesocarat_differetnmodels2_no_z_new_columns3_opt_class_hiperparameters_condatasetamp.csv\", sep=\",\", index=False)"
   ]
  },
  {
   "cell_type": "code",
   "execution_count": null,
   "id": "a57e7b95",
   "metadata": {},
   "outputs": [],
   "source": []
  },
  {
   "cell_type": "code",
   "execution_count": null,
   "id": "0a104744",
   "metadata": {},
   "outputs": [],
   "source": []
  },
  {
   "cell_type": "code",
   "execution_count": null,
   "id": "d7488be8",
   "metadata": {},
   "outputs": [],
   "source": []
  }
 ],
 "metadata": {
  "kernelspec": {
   "display_name": "Python [conda env:scikit]",
   "language": "python",
   "name": "conda-env-scikit-py"
  },
  "language_info": {
   "codemirror_mode": {
    "name": "ipython",
    "version": 3
   },
   "file_extension": ".py",
   "mimetype": "text/x-python",
   "name": "python",
   "nbconvert_exporter": "python",
   "pygments_lexer": "ipython3",
   "version": "3.7.12"
  }
 },
 "nbformat": 4,
 "nbformat_minor": 5
}
